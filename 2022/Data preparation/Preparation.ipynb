{
 "cells": [
  {
   "cell_type": "markdown",
   "id": "99ed560a-09e9-4b43-aca4-913b2d9509d3",
   "metadata": {},
   "source": [
    "# Data preparation\n",
    "This notebook prepares the data for subsequent machine learning applications. \n",
    "\n",
    "It outputs a csv file of clean machine learning-ready data for each award, containing merged player, team and vote shares data."
   ]
  },
  {
   "cell_type": "code",
   "execution_count": 1,
   "id": "6167df41-76cc-450a-a90e-a4a5c0d634ed",
   "metadata": {},
   "outputs": [],
   "source": [
    "# Import packages\n",
    "import pandas as pd\n",
    "import numpy as np\n",
    "import matplotlib.pyplot as plt\n",
    "from bs4 import BeautifulSoup\n",
    "import requests\n",
    "import warnings\n",
    "warnings.filterwarnings('ignore')\n",
    "from IPython.display import clear_output\n",
    "\n",
    "# Set working path\n",
    "path = '/Users/martinbogaert/Desktop/NBA Data Analysis/2022-2023 Awards Project clean/'"
   ]
  },
  {
   "cell_type": "markdown",
   "id": "a01e208d-55ec-4595-8e7d-bf5b31cc42fc",
   "metadata": {
    "tags": []
   },
   "source": [
    "## Merge player and team data"
   ]
  },
  {
   "cell_type": "code",
   "execution_count": 3,
   "id": "29fb8cfb-d782-4b74-bd91-9d67462be3f0",
   "metadata": {},
   "outputs": [],
   "source": [
    "# Save final data\n",
    "final_data = pd.read_csv(path + 'Scrapping/player_data.csv').merge(pd.read_csv(path + 'Scrapping/team_data.csv'), how = 'outer', on = ['Tm', 'Year'])\n",
    "#final_data.to_csv(path + 'final_data.csv', index = None)"
   ]
  },
  {
   "cell_type": "markdown",
   "id": "e1f57209-22d7-45a0-9ff6-a25b8d9ff026",
   "metadata": {
    "tags": []
   },
   "source": [
    "## MVP"
   ]
  },
  {
   "cell_type": "code",
   "execution_count": 3,
   "id": "de9731b8-3bc1-43a9-906c-f3722cf80918",
   "metadata": {},
   "outputs": [],
   "source": [
    "# Merge final data with MVP shares data\n",
    "mvp = final_data.merge(pd.read_csv(path + 'Scrapping/mvp_history.csv'), how = 'outer', on = ['Player', 'Year'])\n",
    "mvp = mvp[:-1] # George Johnson (SAS, 1981) not matched with any row in final_data.csv (0.004 shares)"
   ]
  },
  {
   "cell_type": "code",
   "execution_count": 4,
   "id": "3a857792-cb28-46ca-b968-fefce69c636f",
   "metadata": {},
   "outputs": [],
   "source": [
    "# Mimimum games and minutes requirements, keep players with shares eitherway\n",
    "mvp = mvp[(mvp['G'] >= 20) | (mvp['Share'] > 0)] # Minimum 20 games played\n",
    "mvp = mvp[(mvp['MP'] >= 10) | (mvp['Share'] > 0)] # Minimum 10 minutes per game\n",
    "\n",
    "for stat in list(mvp):\n",
    "    mvp[stat] = mvp[stat].replace(np.nan, 0)\n",
    "    \n",
    "mvp.to_csv(path + 'Algorithm/mvp/mvp_data.csv', index = False)"
   ]
  },
  {
   "cell_type": "markdown",
   "id": "37dd4005-3cfa-418c-857e-c8e1999bf9b2",
   "metadata": {
    "jp-MarkdownHeadingCollapsed": true,
    "tags": []
   },
   "source": [
    "## ROY"
   ]
  },
  {
   "cell_type": "code",
   "execution_count": 5,
   "id": "773b37d8-0237-4851-9a4c-c50395d1f70c",
   "metadata": {},
   "outputs": [],
   "source": [
    "# Function to scrape rookie player and respective year\n",
    "def rookie_history(yr):\n",
    "\n",
    "    url = f'https://www.basketball-reference.com/leagues/NBA_{yr}_rookies.html'\n",
    "    page = requests.get(url)\n",
    "    \n",
    "   # with open(f'roy/yearly rookie data/{yr}.html', 'w+') as file:\n",
    "   #         file.write(page.text)\n",
    "    #        file.close()\n",
    "\n",
    "    soup = BeautifulSoup(page.content, 'html')\n",
    "\n",
    "    for overhead in ['over_header', 'over_header thead', 'thead']:\n",
    "        while soup.find('tr', class_ = overhead) is not None:\n",
    "            soup.find('tr', class_ = overhead).decompose()\n",
    "\n",
    "    table = soup.find('table')\n",
    "\n",
    "    # Assemble rookie history DataFrame\n",
    "    rookies = pd.read_html(str(table))[0][['Player']]\n",
    "    rookies['Year'] = len(rookies) * [yr]\n",
    "\n",
    "    return rookies"
   ]
  },
  {
   "cell_type": "code",
   "execution_count": 6,
   "id": "a732ff9a-090d-4b72-9ab7-08f208ede0fb",
   "metadata": {},
   "outputs": [
    {
     "name": "stdout",
     "output_type": "stream",
     "text": [
      "2022 / 2022\n"
     ]
    }
   ],
   "source": [
    "years = list(range(1978, 2023))\n",
    "dfs = []\n",
    "for yr in years:\n",
    "    dfs.append(rookie_history(yr))\n",
    "    clear_output(wait = True)\n",
    "    print(str(yr) + ' / 2022')\n",
    "    \n",
    "rookie_data = pd.concat(dfs)\n",
    "rookie_data['Player'] = rookie_data['Player'].str.replace('*', '', regex = False)"
   ]
  },
  {
   "cell_type": "code",
   "execution_count": 7,
   "id": "f8d861df-bc0c-42df-82d3-ba9bd15b4482",
   "metadata": {},
   "outputs": [],
   "source": [
    "roy = final_data.merge(pd.read_csv(path + 'Scrapping/roy_history.csv'), how = 'outer', on = ['Player', 'Year'])\n",
    "roy = roy.merge(rookie_data, how = 'inner', on = ['Player', 'Year'])"
   ]
  },
  {
   "cell_type": "code",
   "execution_count": 8,
   "id": "b722677b-afa0-4a6b-a7c4-d144b66dea81",
   "metadata": {},
   "outputs": [],
   "source": [
    "# Mimimum games and minutes requirements, keep players with shares eitherway\n",
    "roy = roy[(roy['G'] >= 15) | (roy['Share'] > 0)] # Minimum 15 games played\n",
    "roy = roy[(roy['MP'] >= 8) | (roy['Share'] > 0)] # Minimum 8 minutes per game\n",
    "\n",
    "for stat in list(roy):\n",
    "    roy[stat] = roy[stat].replace(np.nan, 0)\n",
    "    \n",
    "roy.to_csv(path + 'Algorithm/roy/roy_data.csv', index = False)"
   ]
  },
  {
   "cell_type": "markdown",
   "id": "b9d96ef0-67ae-4fba-bef3-c0dd5d39f7a8",
   "metadata": {
    "jp-MarkdownHeadingCollapsed": true,
    "tags": []
   },
   "source": [
    "## DPOY"
   ]
  },
  {
   "cell_type": "code",
   "execution_count": 9,
   "id": "a30d7782-5a45-4909-ad53-13f70d762504",
   "metadata": {},
   "outputs": [],
   "source": [
    "# Merge final data with DPOY shares data\n",
    "dpoy = final_data.merge(pd.read_csv(path + 'Scrapping/dpoy_history.csv'), how = 'outer', on = ['Player', 'Year'])"
   ]
  },
  {
   "cell_type": "code",
   "execution_count": 10,
   "id": "6c7b0a12-f073-49a8-b3a1-8174849d3130",
   "metadata": {},
   "outputs": [],
   "source": [
    "# Mimimum games and minutes requirements, keep players with shares eitherway\n",
    "dpoy = dpoy[(dpoy['G'] >= 20) | (dpoy['Share'] > 0)] # Minimum 20 games played\n",
    "mvp = dpoy[(dpoy['MP'] >= 8) | (dpoy['Share'] > 0)] # Minimum 8 minutes per game\n",
    "\n",
    "for stat in list(dpoy):\n",
    "    dpoy[stat] = dpoy[stat].replace(np.nan, 0)\n",
    "    \n",
    "dpoy.to_csv(path + 'Algorithm/dpoy/dpoy_data.csv', index = False)"
   ]
  },
  {
   "cell_type": "markdown",
   "id": "ada2fc93-6ad3-4bae-8492-5ac06a48a5c5",
   "metadata": {
    "jp-MarkdownHeadingCollapsed": true,
    "tags": []
   },
   "source": [
    "## SMOY"
   ]
  },
  {
   "cell_type": "code",
   "execution_count": 4,
   "id": "1eda1934-6e72-4ab6-b922-875e1e2ce103",
   "metadata": {},
   "outputs": [],
   "source": [
    "# Merge final data with SMOY shares data\n",
    "smoy = final_data.merge(pd.read_csv(path + 'Scrapping/smoy_history.csv'), how = 'outer', on = ['Player', 'Year'])"
   ]
  },
  {
   "cell_type": "code",
   "execution_count": 5,
   "id": "4bc70788-30cc-45e7-a4e5-d029234c5509",
   "metadata": {},
   "outputs": [],
   "source": [
    "smoy = smoy[smoy['Year'] > 1983] # SMOY first awarded in 1984\n",
    "smoy['%GS'] = [gs/g for gs, g in zip(smoy['GS'], smoy['G'])] # compute proportion of game started\n",
    "smoy = smoy[(smoy['%GS'] <= 0.5) | (smoy['Share'] > 0)] # 6th man of the year requirement, less than 50% of games started\n",
    "\n",
    "# Mimimum games and minutes requirements, keep players with shares eitherway\n",
    "smoy = smoy[(smoy['G'] >= 15) | (smoy['Share'] > 0)] # Minimum 15 games played\n",
    "smoy = smoy[(smoy['MP'] >= 8) | (smoy['Share'] > 0)] # Minimum 8 minutes per game\n",
    "\n",
    "for stat in list(smoy):\n",
    "    smoy[stat] = smoy[stat].replace(np.nan, 0)\n",
    "    \n",
    "#smoy.to_csv(path + 'Algorithm/smoy/smoy_data.csv', index = False)"
   ]
  },
  {
   "cell_type": "markdown",
   "id": "db9db63b-3335-4e57-95ee-ba3a84560762",
   "metadata": {
    "tags": []
   },
   "source": [
    "## MIP"
   ]
  },
  {
   "cell_type": "code",
   "execution_count": 13,
   "id": "cfcaca0d-4bd5-43bb-a845-81b74b61a2dd",
   "metadata": {},
   "outputs": [],
   "source": [
    "# Merge final data with MIP shares data\n",
    "mip = final_data.merge(pd.read_csv(path + 'Scrapping/mip_history.csv'), how = 'outer', on = ['Player', 'Year'])"
   ]
  },
  {
   "cell_type": "code",
   "execution_count": 14,
   "id": "40696c34-4ab2-405b-97ce-9fce98d71a4f",
   "metadata": {},
   "outputs": [],
   "source": [
    "# For each entry, determine the lifetime of the player career, its career high in points, assists, rebounds and minutes played\n",
    "def years_in_league(df):\n",
    "    df = df.sort_values('Year')\n",
    "    df['lifetime'] = [len(df[df['Year'] <= yrs]) for yrs in df['Year']]\n",
    "    pts_high, ast_high, trb_high, mp_high = [], [], [], []\n",
    "    for yr in df['Year']:\n",
    "        df_prev = df[df['Year'] < yr]\n",
    "        pts_high.append(df_prev['PTS'].max())\n",
    "        ast_high.append(df_prev['AST'].max())\n",
    "        trb_high.append(df_prev['TRB'].max())\n",
    "        mp_high.append(df_prev['MP'].max())\n",
    "    df['PTS_high'] = pts_high\n",
    "    df['AST_high'] = ast_high\n",
    "    df['TRB_high'] = trb_high\n",
    "    df['MP_high'] = mp_high\n",
    "    return df\n",
    "\n",
    "mip = mip.groupby('Player').apply(years_in_league)"
   ]
  },
  {
   "cell_type": "code",
   "execution_count": 15,
   "id": "c5de4480-d605-4213-ac41-ea438ccd8c11",
   "metadata": {},
   "outputs": [],
   "source": [
    "# Drop data prior to 1987\n",
    "mip = mip[mip['Year'] > 1986]\n",
    "for stat in list(mip):\n",
    "    mip[stat] = mip[stat].replace(np.nan, 0)"
   ]
  },
  {
   "cell_type": "code",
   "execution_count": 16,
   "id": "71b5c098-2fd8-480d-962e-c2021aec80c5",
   "metadata": {},
   "outputs": [],
   "source": [
    "# Determine player previous playing year\n",
    "def prev_year(df) :\n",
    "    df['prev_year'] = df['Year'].rolling(2, center = True).min()\n",
    "    return df\n",
    "mip = mip.groupby('Player').apply(prev_year)\n",
    "\n",
    "mip['prev_year'] = mip['prev_year'].replace(np.nan, 0) # If NaN (rookie season), assign 0 (easy to cut)\n",
    "mip = mip[mip['Year'] - mip['prev_year'] == 1] # Only keep eligible players (with a previous year playing season)"
   ]
  },
  {
   "cell_type": "code",
   "execution_count": 17,
   "id": "2ca17c6e-f10e-4cd7-9dd7-28a26e585bc7",
   "metadata": {},
   "outputs": [],
   "source": [
    "# Merge eligible player data with their previous year data\n",
    "mip = mip.merge(final_data.rename(columns = {'Year' : 'prev_year'}), on = ['Player', 'prev_year'], suffixes = ['', '_prev'], how = 'inner')"
   ]
  },
  {
   "cell_type": "code",
   "execution_count": 18,
   "id": "314bc3b8-7607-472a-9197-d2b0f74c7f0d",
   "metadata": {},
   "outputs": [],
   "source": [
    "# Calculate the difference in stats for all numerical features\n",
    "features =  ['G','GS','MP','FG','FGA','FG%','3P','3PA','3P%','2P','2PA','2P%','eFG%','FT','FTA','FT%','ORB','DRB','TRB','AST',\n",
    "             'STL','BLK','TOV','PF','PTS','PER','TS%','3PAr','FTr','ORB%','DRB%','TRB%','AST%','STL%','BLK%','TOV%','USG%',\n",
    "             'OWS','DWS','WS','WS/48','OBPM','DBPM','BPM','VORP','W','L','W/L%','PS/G','PA/G','SRS','Seed','MOV','ORtg','DRtg',\n",
    "             'NRtg','MOV/A','ORtg/A','DRtg/A','NRtg/A','ORtg/100','DRtg/100']\n",
    "for f in features :\n",
    "    mip[f'{f}_diff'] = mip[f] - mip[f'{f}_prev']"
   ]
  },
  {
   "cell_type": "code",
   "execution_count": 19,
   "id": "30beab9b-b8ee-4dd2-8c9c-9aa8a6b33037",
   "metadata": {},
   "outputs": [],
   "source": [
    "mip['PTS_rel'] = [(pts-prev)/prev if prev > 0 else 0 for pts, prev in zip(mip['PTS'], mip['PTS_prev'])]\n",
    "mip['PER_rel'] = (mip['PER'] - mip['PER_prev']) / mip['PER_prev']\n",
    "mip['PTS_high_diff'] = mip['PTS'] - mip['PTS_high']"
   ]
  },
  {
   "cell_type": "code",
   "execution_count": 20,
   "id": "3886aaad-c67d-4392-afce-f78a975af5eb",
   "metadata": {},
   "outputs": [],
   "source": [
    "# Requirements (minutes and game)\n",
    "mip = mip[(mip['MP'] >= 10) | (mip['Share'] > 0)] # Minimum 10 minutes played\n",
    "mip = mip[(mip['MP_prev'] >= 5) | (mip['Share'] > 0)] # Minimum 5 minutes played in previous season\n",
    "mip = mip[(mip['G'] >= 20) | (mip['Share'] > 0)] # Minimum 20 games played\n",
    "mip = mip[(mip['G_prev'] >= 10) | (mip['Share'] > 0)] # Minimum 10 games played in previous season\n",
    "\n",
    "# Eligibility\n",
    "mip = mip[(mip['PTS'] > mip['PTS_high']) | (mip['Share'] > 0)] # Career high in points\n",
    "mip = mip[(mip['AST'] >= mip['AST_high']) | (mip['TRB'] >= mip['TRB_high']) | (mip['MP'] >= mip['MP_high']) | (mip['Share'] > 0)] # At least a career high in minutes, assists or rebounds"
   ]
  },
  {
   "cell_type": "code",
   "execution_count": 21,
   "id": "4e97433f-c610-45b5-a5e4-f8062e86a935",
   "metadata": {},
   "outputs": [],
   "source": [
    "mip.to_csv(path + 'Algorithm/mip/mip_data.csv', index = False)"
   ]
  },
  {
   "cell_type": "code",
   "execution_count": null,
   "id": "ebe42326-3a6d-48af-b441-5141a2e72d78",
   "metadata": {},
   "outputs": [],
   "source": []
  }
 ],
 "metadata": {
  "kernelspec": {
   "display_name": "Python 3 (ipykernel)",
   "language": "python",
   "name": "python3"
  },
  "language_info": {
   "codemirror_mode": {
    "name": "ipython",
    "version": 3
   },
   "file_extension": ".py",
   "mimetype": "text/x-python",
   "name": "python",
   "nbconvert_exporter": "python",
   "pygments_lexer": "ipython3",
   "version": "3.8.12"
  }
 },
 "nbformat": 4,
 "nbformat_minor": 5
}
